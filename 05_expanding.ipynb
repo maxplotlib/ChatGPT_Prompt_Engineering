{
 "cells": [
  {
   "cell_type": "markdown",
   "id": "bd0f85a0",
   "metadata": {},
   "source": [
    "# Expanding"
   ]
  },
  {
   "cell_type": "code",
   "execution_count": 1,
   "id": "b58e1162",
   "metadata": {},
   "outputs": [],
   "source": [
    "import openai\n",
    "import os\n",
    "from dotenv import load_dotenv,find_dotenv\n",
    "import textwrap\n",
    "\n",
    "load_dotenv(find_dotenv())\n",
    "\n",
    "openai.api_key = os.getenv(\"OPENAI_API_KEY\")\n",
    "client = openai.OpenAI()"
   ]
  },
  {
   "cell_type": "code",
   "execution_count": 2,
   "id": "5b301150",
   "metadata": {},
   "outputs": [],
   "source": [
    "def print_wrapped(text, max_cols=80):\n",
    "    wrapped = textwrap.fill(text, width=max_cols)\n",
    "    \n",
    "    print(wrapped)"
   ]
  },
  {
   "cell_type": "code",
   "execution_count": 8,
   "id": "7fdc9163",
   "metadata": {},
   "outputs": [],
   "source": [
    "def get_completion(prompt, model=\"gpt-3.5-turbo\", temperature=0):\n",
    "    messages = [{\"role\": \"user\", \"content\": prompt}]\n",
    "    response = client.chat.completions.create(\n",
    "        messages=messages,\n",
    "        model=model,\n",
    "        temperature=temperature\n",
    "    )\n",
    "    \n",
    "    return response.choices[0].message.content"
   ]
  },
  {
   "cell_type": "markdown",
   "id": "d08f35bf",
   "metadata": {},
   "source": [
    "## Customize the automated reply to a customer email"
   ]
  },
  {
   "cell_type": "code",
   "execution_count": 18,
   "id": "2d425927",
   "metadata": {},
   "outputs": [],
   "source": [
    "# given the sentiment \n",
    "# and the original customer review, customize the email\n",
    "sentiment = \"negative\"\n",
    "\n",
    "# review for a blender\n",
    "review = f\"\"\"\n",
    "So, they still had the 17 piece system on seasonal \n",
    "sale for around $49 in the month of November, about \n",
    "half off, but for some reason (call it price gouging) \n",
    "around the second week of December the prices all went \n",
    "up to about anywhere from between $70-$89 for the same \n",
    "system. And the 11 piece system went up around $10 or \n",
    "so in price also from the earlier sale price of $29. \n",
    "So it looks okay, but if you look at the base, the part \n",
    "where the blade locks into place doesn’t look as good \n",
    "as in previous editions from a few years ago, but I \n",
    "plan to be very gentle with it (example, I crush \n",
    "very hard items like beans, ice, rice, etc. in the  \n",
    "blender first then pulverize them in the serving size \n",
    "I want in the blender then switch to the whipping \n",
    "blade for a finer flour, and use the cross cutting blade \n",
    "first when making smoothies, then use the flat blade \n",
    "if I need them finer/less pulpy). Special tip when making \n",
    "smoothies, finely cut and freeze the fruits and \n",
    "vegetables (if using spinach-lightly stew soften the  \n",
    "spinach then freeze until ready for use-and if making \n",
    "sorbet, use a small to medium sized food processor)  \n",
    "that you plan to use that way you can avoid adding so \n",
    "much ice if at all-when making your smoothie. \n",
    "After about a year, the motor was making a funny noise. \n",
    "I called customer service but the warranty expired \n",
    "already, so I had to buy another one. FYI: The overall \n",
    "quality has gone done in these types of products, so \n",
    "they are kind of counting on brand recognition and \n",
    "consumer loyalty to maintain sales. Got it in about \n",
    "two days.\n",
    "\"\"\""
   ]
  },
  {
   "cell_type": "code",
   "execution_count": 23,
   "id": "97cfb817",
   "metadata": {},
   "outputs": [],
   "source": [
    "prompt = f\"\"\"\n",
    "    You are a customer service AI assistant.\n",
    "    Your task is to send an email reply to a valued customer.\n",
    "    Given the customer email delimited by ```, \n",
    "    Generate a reply to thank the customer for their review.\n",
    "    If the sentiment is positive or neutral, thank them for \n",
    "    their review.\n",
    "    If the sentiment is negative, apologize and suggest that \n",
    "    they can reach out to customer service. \n",
    "    Make sure to use specific details from the review.\n",
    "    Write in a concise and professional tone.\n",
    "    Sign the email as `AI customer agent`.\n",
    "    Customer review: ```{review}```\n",
    "    Review sentiment: {sentiment}\n",
    "\"\"\"\n",
    "response = get_completion(prompt)"
   ]
  },
  {
   "cell_type": "code",
   "execution_count": 24,
   "id": "4f356c90",
   "metadata": {},
   "outputs": [
    {
     "name": "stdout",
     "output_type": "stream",
     "text": [
      "Dear valued customer,  Thank you for taking the time to share your detailed\n",
      "feedback with us. We sincerely apologize for the experience you had with our\n",
      "product and the price fluctuations you encountered. We strive to provide\n",
      "consistent quality and fair pricing to all our customers.  We are sorry to hear\n",
      "about the issue with the motor and the decrease in overall product quality. Your\n",
      "feedback is valuable to us, and we will take it into consideration for future\n",
      "improvements. If you have any further concerns or would like to discuss this\n",
      "matter further, please feel free to reach out to our customer service team for\n",
      "assistance.  Thank you again for sharing your experience with us. We appreciate\n",
      "your feedback and your loyalty to our brand.  Warm regards, AI customer agent\n"
     ]
    }
   ],
   "source": [
    "print_wrapped(response)"
   ]
  },
  {
   "cell_type": "markdown",
   "id": "711d1157",
   "metadata": {},
   "source": [
    "## Remind the model to use details from the customer's email"
   ]
  },
  {
   "cell_type": "code",
   "execution_count": 25,
   "id": "46114f69",
   "metadata": {},
   "outputs": [],
   "source": [
    "prompt = f\"\"\"\n",
    "    You are a customer service AI assistant.\n",
    "    Your task is to send an email reply to a valued customer.\n",
    "    \n",
    "    Given the customer email delimited by ```, \n",
    "    Generate a reply to thank the customer for their review.\n",
    "    \n",
    "    If the sentiment is positive or neutral, thank them for \n",
    "    their review.\n",
    "    If the sentiment is negative, apologize and suggest that \n",
    "    they can reach out to customer service.\n",
    "    \n",
    "    Make sure to use specific details from the review.\n",
    "    Write in a concise and professional tone.\n",
    "    Sign the email as `AI customer agent`.\n",
    "    \n",
    "    Customer review: ```{review}```\n",
    "    Review sentiment: {sentiment}\n",
    "\"\"\"\n",
    "response = get_completion(prompt, temperature=0.7)"
   ]
  },
  {
   "cell_type": "code",
   "execution_count": 28,
   "id": "7343eb34",
   "metadata": {},
   "outputs": [
    {
     "name": "stdout",
     "output_type": "stream",
     "text": [
      "Subject: Apology for Your Experience  Dear Valued Customer,  Thank you for\n",
      "taking the time to share your detailed feedback with us. We are sorry to hear\n",
      "about the issues you encountered with our product. Your insights are truly\n",
      "valuable to us, and we apologize for any inconvenience caused.  If you would\n",
      "like further assistance or have any concerns, please feel free to reach out to\n",
      "our customer service team. They will be more than happy to help address any\n",
      "issues you may have.  We appreciate your feedback and hope to have the\n",
      "opportunity to serve you better in the future.  Thank you for choosing our\n",
      "product.  AI customer agent\n"
     ]
    }
   ],
   "source": [
    "print_wrapped(response)"
   ]
  }
 ],
 "metadata": {
  "kernelspec": {
   "display_name": "env",
   "language": "python",
   "name": "python3"
  },
  "language_info": {
   "codemirror_mode": {
    "name": "ipython",
    "version": 3
   },
   "file_extension": ".py",
   "mimetype": "text/x-python",
   "name": "python",
   "nbconvert_exporter": "python",
   "pygments_lexer": "ipython3",
   "version": "3.12.1"
  }
 },
 "nbformat": 4,
 "nbformat_minor": 5
}
